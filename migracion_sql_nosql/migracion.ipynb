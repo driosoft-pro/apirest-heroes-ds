{
  "cells": [
    {
      "cell_type": "markdown",
      "metadata": {},
      "source": [
        "# Migración SQL → NoSQL (MongoDB)\n",
        "\n",
        "Notebook interactivo para migrar el dump **dbHeroeCloudSQL.sql** (o una base **MySQL** en vivo) hacia **MongoDB**, con un modelado práctico.\n"
      ]
    },
    {
      "cell_type": "markdown",
      "metadata": {},
      "source": [
        "## 1) Requisitos (ejecutar en tu entorno local o nuve)\n",
        "\n",
        "> Si ya tienes instalados `pymysql` y `pymongo`, puedes omitir esta celda.\n",
        "\n",
        "```bash\n",
        "pip install pymysql pymongo\n",
        "```\n"
      ]
    },
    {
      "cell_type": "code",
      "execution_count": null,
      "id": "3a79cbf3",
      "metadata": {},
      "outputs": [],
      "source": [
        "# Import necessary libraries\n",
        "import pymysql\n",
        "import pymongo\n",
        "import datetime\n",
        "import typing"
      ]
    },
    {
      "cell_type": "markdown",
      "metadata": {},
      "source": [
        "## 2) Configuración\n",
        "\n",
        "Elige el **origen** (MySQL o dump SQL) y el **destino** (MongoDB o JSON).\n",
        "Edita las variables de esta celda según tu entorno.\n"
      ]
    },
    {
      "cell_type": "code",
      "execution_count": null,
      "metadata": {},
      "outputs": [],
      "source": [
        "\n",
        "# === Origen de datos ===\n",
        "SQL_MODE = \"sqlite\"   # \"mysql\" | \"sqlite\"\n",
        "\n",
        "# Para MySQL (si SQL_MODE == \"mysql\")\n",
        "MYSQL_HOST = \"localhost\"\n",
        "MYSQL_PORT = 3306\n",
        "MYSQL_DB   = \"myDb\"\n",
        "MYSQL_USER = \"usuario\"\n",
        "MYSQL_PASS = \"clave\"\n",
        "\n",
        "# Para Dump SQL (si SQL_MODE == \"sqlite\")\n",
        "SQLITE_SQL_PATH = \"/mnt/data/dbHeroeCloudSQL.sql\"  # ajusta si copiaste a otra ruta\n",
        "\n",
        "# === Destino ===\n",
        "# Si defines MONGO_URI se escribirá en MongoDB; si lo dejas vacío, exporta JSON en ./output/*.json\n",
        "MONGO_URI = \"\"  # p.ej. \"mongodb://localhost:27017\"\n",
        "MONGO_DB  = \"apiheroes_nosql\"\n"
      ]
    },
    {
      "cell_type": "code",
      "execution_count": null,
      "metadata": {},
      "outputs": [],
      "source": [
        "\n",
        "# Dependencias opcionales (se importan si están instaladas)\n",
        "try:\n",
        "    import pymysql  # para MySQL\n",
        "except Exception:\n",
        "    pymysql = None\n",
        "\n",
        "try:\n",
        "    from pymongo import MongoClient, ReplaceOne\n",
        "    from bson.objectid import ObjectId\n",
        "except Exception:\n",
        "    MongoClient = None\n",
        "    ReplaceOne = None\n",
        "    ObjectId = None\n",
        "\n",
        "import os, sys, json, sqlite3\n",
        "from datetime import datetime\n",
        "from typing import Any, Dict, List, Optional\n"
      ]
    },
    {
      "cell_type": "markdown",
      "metadata": {},
      "source": [
        "## 3) Utilidades"
      ]
    },
    {
      "cell_type": "code",
      "execution_count": null,
      "metadata": {},
      "outputs": [],
      "source": [
        "\n",
        "def to_bool(x: Any) -> bool:\n",
        "    if isinstance(x, bool):\n",
        "        return x\n",
        "    if x is None:\n",
        "        return False\n",
        "    if isinstance(x, (int, float)):\n",
        "        return x != 0\n",
        "    s = str(x).strip().lower()\n",
        "    return s in {'1', 'true', 't', 'yes', 'y', 'on'}\n",
        "\n",
        "def to_iso_date(x: Any) -> Optional[str]:\n",
        "    if x in (None, \"\", \"0000-00-00\"):\n",
        "        return None\n",
        "    try:\n",
        "        return datetime.fromisoformat(str(x)).date().isoformat()\n",
        "    except Exception:\n",
        "        try:\n",
        "            return datetime.strptime(str(x), \"%Y-%m-%d\").date().isoformat()\n",
        "        except Exception:\n",
        "            return str(x)\n"
      ]
    },
    {
      "cell_type": "markdown",
      "metadata": {},
      "source": [
        "## 4) Cargar origen SQL"
      ]
    },
    {
      "cell_type": "code",
      "execution_count": null,
      "metadata": {},
      "outputs": [],
      "source": [
        "\n",
        "class SQLSource:\n",
        "    def query_all(self, sql: str, params: tuple = ()):\n",
        "        raise NotImplementedError\n",
        "    def close(self): ...\n",
        "    \n",
        "class MySQLSource(SQLSource):\n",
        "    def __init__(self, host: str, port: int, db: str, user: str, password: str):\n",
        "        if pymysql is None:\n",
        "            raise RuntimeError(\"pymysql no está instalado. Ejecuta: pip install pymysql\")\n",
        "        self.conn = pymysql.connect(\n",
        "            host=host, port=port, user=user, password=password,\n",
        "            db=db, charset=\"utf8mb4\", cursorclass=pymysql.cursors.DictCursor\n",
        "        )\n",
        "    def query_all(self, sql: str, params: tuple = ()):\n",
        "        with self.conn.cursor() as cur:\n",
        "            cur.execute(sql, params)\n",
        "            return list(cur.fetchall())\n",
        "    def close(self):\n",
        "        try: self.conn.close()\n",
        "        except Exception: pass\n",
        "\n",
        "class SQLiteFromDump(SQLSource):\n",
        "    def __init__(self, dump_path: str):\n",
        "        if not os.path.isfile(dump_path):\n",
        "            raise FileNotFoundError(f\"No existe el archivo SQL: {dump_path}\")\n",
        "        self.conn = sqlite3.connect(\":memory:\")\n",
        "        self.conn.row_factory = sqlite3.Row\n",
        "        with open(dump_path, \"r\", encoding=\"utf-8\") as f:\n",
        "            sql_script = f.read()\n",
        "        stmts = (\n",
        "            sql_script\n",
        "            .replace(\"AUTO_INCREMENT\", \"\")\n",
        "            .replace(\"TINYINT(1)\", \"INTEGER\")\n",
        "            .replace(\"ENUM('ADMIN_ROLE', 'USER_ROLE')\", \"TEXT\")\n",
        "            .replace(\"BIGINT\", \"INTEGER\")\n",
        "            .replace(\"INT\", \"INTEGER\")\n",
        "        )\n",
        "        self.conn.executescript(stmts)\n",
        "    def query_all(self, sql: str, params: tuple = ()):\n",
        "        cur = self.conn.execute(sql, params)\n",
        "        return [dict(r) for r in cur.fetchall()]\n",
        "    def close(self):\n",
        "        try: self.conn.close()\n",
        "        except Exception: pass\n",
        "\n",
        "def get_source():\n",
        "    if SQL_MODE.lower() == \"mysql\":\n",
        "        return MySQLSource(MYSQL_HOST, int(MYSQL_PORT), MYSQL_DB, MYSQL_USER, MYSQL_PASS)\n",
        "    return SQLiteFromDump(SQLITE_SQL_PATH)\n"
      ]
    },
    {
      "cell_type": "markdown",
      "metadata": {},
      "source": [
        "## 5) Configurar destino (MongoDB o JSON)"
      ]
    },
    {
      "cell_type": "code",
      "execution_count": null,
      "metadata": {},
      "outputs": [],
      "source": [
        "\n",
        "class Sink:\n",
        "    def write(self, coll: str, docs):\n",
        "        raise NotImplementedError\n",
        "    def close(self): ...\n",
        "\n",
        "class MongoSink(Sink):\n",
        "    def __init__(self, uri: str, dbname: str):\n",
        "        if MongoClient is None:\n",
        "            raise RuntimeError(\"pymongo no está instalado. Ejecuta: pip install pymongo\")\n",
        "        self.client = MongoClient(uri)\n",
        "        self.db = self.client[dbname]\n",
        "    def write(self, coll: str, docs):\n",
        "        if not docs: return\n",
        "        c = self.db[coll]\n",
        "        ops = []\n",
        "        for d in docs:\n",
        "            if \"_id\" in d:\n",
        "                filt = {\"_id\": d[\"_id\"]}\n",
        "            elif \"nombre\" in d:\n",
        "                filt = {\"nombre\": d[\"nombre\"]}\n",
        "            else:\n",
        "                c.insert_one(d); \n",
        "                continue\n",
        "            ops.append(ReplaceOne(filt, d, upsert=True))\n",
        "        if ops:\n",
        "            c.bulk_write(ops, ordered=False)\n",
        "    def close(self):\n",
        "        try: self.client.close()\n",
        "        except Exception: pass\n",
        "\n",
        "class JSONSink(Sink):\n",
        "    def __init__(self, outdir: str):\n",
        "        os.makedirs(outdir, exist_ok=True)\n",
        "        self.outdir = outdir\n",
        "    def write(self, coll: str, docs):\n",
        "        path = os.path.join(self.outdir, f\"{coll}.json\")\n",
        "        with open(path, \"w\", encoding=\"utf-8\") as f:\n",
        "            json.dump(docs, f, ensure_ascii=False, indent=2)\n",
        "\n",
        "def get_sink():\n",
        "    if MONGO_URI:\n",
        "        print(f\"[INFO] Enviando a MongoDB '{MONGO_DB}' en {MONGO_URI} ...\")\n",
        "        return MongoSink(MONGO_URI, MONGO_DB)\n",
        "    outdir = os.path.join(os.getcwd(), \"output\")\n",
        "    print(f\"[INFO] MONGO_URI no definido. Exportando JSON en {outdir} ...\")\n",
        "    return JSONSink(outdir)\n"
      ]
    },
    {
      "cell_type": "markdown",
      "metadata": {},
      "source": [
        "## 6) Extraer datos desde SQL"
      ]
    },
    {
      "cell_type": "code",
      "execution_count": null,
      "metadata": {},
      "outputs": [],
      "source": [
        "\n",
        "src = get_source()\n",
        "\n",
        "heroes = src.query_all(\"SELECT id, nombre, bio, img, aparicion, casa FROM heroes_ds\")\n",
        "peliculas = src.query_all(\"SELECT id, nombre FROM peliculas_ds\")\n",
        "usuarios = src.query_all(\"\"\"\n",
        "SELECT id, nombre, correo, password, img, rol, estado, google, fecha_creacion, fecha_actualizacion\n",
        "FROM usuarios_ds\n",
        "\"\"\")\n",
        "multimedias = src.query_all(\"SELECT idmultimedia AS id, nombre, url, tipo FROM multimedias_ds\")\n",
        "protagonistas = src.query_all(\"\"\"\n",
        "SELECT id, papel, fecha_participacion, heroes_id, peliculas_id\n",
        "FROM protagonistas_ds\n",
        "\"\"\")\n",
        "hero_media = src.query_all(\"SELECT heroes_id, idmultimedia FROM multimedias_heroe_ds\")\n",
        "\n",
        "len(heroes), len(peliculas), len(usuarios), len(multimedias), len(protagonistas), len(hero_media)\n"
      ]
    },
    {
      "cell_type": "markdown",
      "metadata": {},
      "source": [
        "## 7) Transformar a documentos NoSQL"
      ]
    },
    {
      "cell_type": "code",
      "execution_count": null,
      "metadata": {},
      "outputs": [],
      "source": [
        "\n",
        "pel_by_id = {p[\"id\"]: p for p in peliculas}\n",
        "media_by_id = {m[\"id\"]: m for m in multimedias}\n",
        "\n",
        "media_by_hero = {}\n",
        "for hm in hero_media:\n",
        "    media_by_hero.setdefault(hm[\"heroes_id\"], []).append(media_by_id.get(hm[\"idmultimedia\"]))\n",
        "\n",
        "part_by_hero = {}\n",
        "for pr in protagonistas:\n",
        "    pel = pel_by_id.get(pr[\"peliculas_id\"], {\"id\": pr[\"peliculas_id\"], \"nombre\": None})\n",
        "    part_by_hero.setdefault(pr[\"heroes_id\"], []).append({\n",
        "        \"pelicula_id\": pel[\"id\"],\n",
        "        \"pelicula_nombre\": pel[\"nombre\"],\n",
        "        \"papel\": pr[\"papel\"],\n",
        "        \"fecha_participacion\": to_iso_date(pr[\"fecha_participacion\"]),\n",
        "    })\n",
        "\n",
        "heroes_docs = []\n",
        "for h in heroes:\n",
        "    heroes_docs.append({\n",
        "        \"_id\": int(h[\"id\"]),\n",
        "        \"nombre\": h[\"nombre\"],\n",
        "        \"bio\": h.get(\"bio\"),\n",
        "        \"img\": h.get(\"img\"),\n",
        "        \"aparicion\": to_iso_date(h.get(\"aparicion\")),\n",
        "        \"casa\": h.get(\"casa\"),\n",
        "        \"peliculas\": part_by_hero.get(h[\"id\"], []),\n",
        "        \"multimedias\": media_by_hero.get(h[\"id\"], []),\n",
        "    })\n",
        "\n",
        "peliculas_docs = [{\"_id\": int(p[\"id\"]), \"nombre\": p[\"nombre\"]} for p in peliculas]\n",
        "\n",
        "usuarios_docs = []\n",
        "for u in usuarios:\n",
        "    usuarios_docs.append({\n",
        "        \"_id\": int(u[\"id\"]),\n",
        "        \"nombre\": u[\"nombre\"],\n",
        "        \"correo\": u[\"correo\"],\n",
        "        \"password\": u[\"password\"],\n",
        "        \"img\": u.get(\"img\"),\n",
        "        \"rol\": u[\"rol\"],\n",
        "        \"estado\": to_bool(u.get(\"estado\")),\n",
        "        \"google\": to_bool(u.get(\"google\")),\n",
        "        \"fecha_creacion\": to_iso_date(u.get(\"fecha_creacion\")),\n",
        "        \"fecha_actualizacion\": to_iso_date(u.get(\"fecha_actualizacion\")),\n",
        "    })\n",
        "\n",
        "multimedias_docs = [{\"_id\": int(m[\"id\"]), \"nombre\": m[\"nombre\"], \"url\": m.get(\"url\"), \"tipo\": m.get(\"tipo\")} for m in multimedias]\n",
        "\n",
        "protagonistas_docs = []\n",
        "for pr in protagonistas:\n",
        "    protagonistas_docs.append({\n",
        "        \"_id\": int(pr[\"id\"]),\n",
        "        \"papel\": pr[\"papel\"],\n",
        "        \"fecha_participacion\": to_iso_date(pr[\"fecha_participacion\"]),\n",
        "        \"heroes_id\": int(pr[\"heroes_id\"]),\n",
        "        \"peliculas_id\": int(pr[\"peliculas_id\"]),\n",
        "    })\n",
        "\n",
        "summary = {\n",
        "    \"heroes\": len(heroes_docs),\n",
        "    \"peliculas\": len(peliculas_docs),\n",
        "    \"usuarios\": len(usuarios_docs),\n",
        "    \"multimedias\": len(multimedias_docs),\n",
        "    \"protagonistas\": len(protagonistas_docs),\n",
        "}\n",
        "summary\n"
      ]
    },
    {
      "cell_type": "markdown",
      "metadata": {},
      "source": [
        "## 8) Cargar en destino"
      ]
    },
    {
      "cell_type": "code",
      "execution_count": null,
      "metadata": {},
      "outputs": [],
      "source": [
        "\n",
        "sink = get_sink()\n",
        "sink.write(\"heroes\", heroes_docs)\n",
        "sink.write(\"peliculas\", peliculas_docs)\n",
        "sink.write(\"usuarios\", usuarios_docs)\n",
        "sink.write(\"multimedias\", multimedias_docs)\n",
        "sink.write(\"protagonistas\", protagonistas_docs)\n",
        "sink.close()\n",
        "src.close()\n",
        "print(\"[OK] Migración terminada.\")\n"
      ]
    }
  ],
  "metadata": {
    "kernelspec": {
      "display_name": "Python 3",
      "language": "python",
      "name": "python3"
    },
    "language_info": {
      "name": "python"
    }
  },
  "nbformat": 4,
  "nbformat_minor": 5
}
