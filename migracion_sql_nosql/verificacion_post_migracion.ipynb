{
  "cells": [
    {
      "cell_type": "markdown",
      "metadata": {},
      "source": [
        "# Verificación post-migración (MongoDB)"
      ]
    },
    {
      "cell_type": "code",
      "execution_count": null,
      "metadata": {},
      "outputs": [],
      "source": [
        "from dotenv import load_dotenv\n",
        "import os\n",
        "from pymongo import MongoClient\n",
        "ENV_PATH=os.environ.get(\"ENV_PATH\",\".env\"); load_dotenv(dotenv_path=ENV_PATH, override=False)\n",
        "uri = (os.getenv(\"MONGODB_REMOTE_URI\",\"\") if (os.getenv(\"DB_ENV\",\"local\").lower()==\"remote\") else os.getenv(\"MONGODB_LOCAL_URI\",\"\"))\n",
        "assert uri, \"Configura MONGODB_LOCAL_URI/MONGODB_REMOTE_URI en .env\"\n",
        "MONGO_DB=os.getenv(\"MONGO_DB\",\"apiheroes_nosql\")\n",
        "client=MongoClient(uri); db=client[MONGO_DB]\n",
        "db.list_collection_names()"
      ]
    },
    {
      "cell_type": "code",
      "execution_count": null,
      "metadata": {},
      "outputs": [],
      "source": [
        "{c: db[c].count_documents({}) for c in [\"heroes\",\"peliculas\",\"usuarios\",\"multimedias\",\"protagonistas\"]}"
      ]
    },
    {
      "cell_type": "code",
      "execution_count": null,
      "metadata": {},
      "outputs": [],
      "source": [
        "{\"heroes\": db.heroes.find_one(), \"peliculas\": db.peliculas.find_one(), \"usuarios\": db.usuarios.find_one()}"
      ]
    }
  ],
  "metadata": {
    "kernelspec": {
      "display_name": "Python 3",
      "language": "python",
      "name": "python3"
    }
  },
  "nbformat": 4,
  "nbformat_minor": 5
}