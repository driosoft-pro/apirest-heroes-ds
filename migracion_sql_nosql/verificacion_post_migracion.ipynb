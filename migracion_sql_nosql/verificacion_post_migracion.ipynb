{
  "cells": [
    {
      "cell_type": "markdown",
      "metadata": {},
      "source": [
        "# Verificación post-migración (MongoDB)"
      ]
    },
    {
      "cell_type": "code",
      "execution_count": 4,
      "metadata": {},
      "outputs": [
        {
          "data": {
            "text/plain": [
              "['heroes', 'multimedias', 'protagonistas', 'usuarios', 'peliculas']"
            ]
          },
          "execution_count": 4,
          "metadata": {},
          "output_type": "execute_result"
        }
      ],
      "source": [
        "from dotenv import load_dotenv\n",
        "import os\n",
        "from pymongo import MongoClient\n",
        "ENV_PATH=os.environ.get(\"ENV_PATH\",\".env\"); load_dotenv(dotenv_path=ENV_PATH, override=False)\n",
        "uri = (os.getenv(\"MONGODB_REMOTE_URI\",\"\") if (os.getenv(\"DB_ENV\",\"local\").lower()==\"remote\") else os.getenv(\"MONGODB_LOCAL_URI\",\"\"))\n",
        "assert uri, \"Configura MONGODB_LOCAL_URI/MONGODB_REMOTE_URI en .env\"\n",
        "MONGO_DB=os.getenv(\"MONGO_DB\",\"apiheroes_nosql\")\n",
        "client=MongoClient(uri); db=client[MONGO_DB]\n",
        "db.list_collection_names()"
      ]
    },
    {
      "cell_type": "code",
      "execution_count": 5,
      "metadata": {},
      "outputs": [
        {
          "data": {
            "text/plain": [
              "{'heroes': 10,\n",
              " 'peliculas': 10,\n",
              " 'usuarios': 5,\n",
              " 'multimedias': 20,\n",
              " 'protagonistas': 10}"
            ]
          },
          "execution_count": 5,
          "metadata": {},
          "output_type": "execute_result"
        }
      ],
      "source": [
        "{c: db[c].count_documents({}) for c in [\"heroes\",\"peliculas\",\"usuarios\",\"multimedias\",\"protagonistas\"]}"
      ]
    },
    {
      "cell_type": "code",
      "execution_count": 6,
      "metadata": {},
      "outputs": [
        {
          "data": {
            "text/plain": [
              "{'heroes': {'_id': 1,\n",
              "  'nombre': 'Iron Man',\n",
              "  'bio': 'Millonario e inventor que creó la armadura Iron Man.',\n",
              "  'img': 'ironman.jpg',\n",
              "  'aparicion': '2008-05-02',\n",
              "  'casa': 'Marvel',\n",
              "  'peliculas': [{'pelicula_id': 1,\n",
              "    'pelicula_nombre': 'Iron Man',\n",
              "    'papel': 'Tony Stark / Iron Man',\n",
              "    'fecha_participacion': '2008-05-02'}],\n",
              "  'multimedias': [{'id': 1,\n",
              "    'nombre': 'Iron Man Poster',\n",
              "    'url': 'ironman_poster.jpg',\n",
              "    'tipo': 'imagen'},\n",
              "   {'id': 2,\n",
              "    'nombre': 'Iron Man Trailer',\n",
              "    'url': 'ironman_trailer.mp4',\n",
              "    'tipo': 'video'}]},\n",
              " 'peliculas': {'_id': 1, 'nombre': 'Iron Man'},\n",
              " 'usuarios': {'_id': 1,\n",
              "  'nombre': 'Samuel',\n",
              "  'correo': 'samuel@mail.com',\n",
              "  'password': '$2b$10$fyGi/SNWEYasSjaLgeuBKe0jbpeTQNMr.iBm8CGXq8EEVVTVO1JDm',\n",
              "  'img': 'samuel.png',\n",
              "  'rol': 'ADMIN_ROLE',\n",
              "  'estado': True,\n",
              "  'google': False,\n",
              "  'fecha_creacion': '2025-01-01',\n",
              "  'fecha_actualizacion': '2025-02-01'}}"
            ]
          },
          "execution_count": 6,
          "metadata": {},
          "output_type": "execute_result"
        }
      ],
      "source": [
        "{\"heroes\": db.heroes.find_one(), \"peliculas\": db.peliculas.find_one(), \"usuarios\": db.usuarios.find_one()}"
      ]
    }
  ],
  "metadata": {
    "kernelspec": {
      "display_name": ".venv",
      "language": "python",
      "name": "python3"
    },
    "language_info": {
      "codemirror_mode": {
        "name": "ipython",
        "version": 3
      },
      "file_extension": ".py",
      "mimetype": "text/x-python",
      "name": "python",
      "nbconvert_exporter": "python",
      "pygments_lexer": "ipython3",
      "version": "3.11.9"
    }
  },
  "nbformat": 4,
  "nbformat_minor": 5
}
