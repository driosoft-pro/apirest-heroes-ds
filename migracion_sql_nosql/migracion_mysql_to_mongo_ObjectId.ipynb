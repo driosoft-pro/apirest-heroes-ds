{
  "cells": [
    {
      "cell_type": "markdown",
      "metadata": {},
      "source": [
        "# Migración MySQL → MongoDB (IDs como ObjectId de Mongo)\n",
        "\n",
        "Usa `.env` compartido (Node/Python). Las colecciones en MongoDB **no reutilizan** los `id` numéricos de MySQL.\n",
        "Se generan nuevos `_id` de tipo **ObjectId** y se conserva el `sql_id` con el identificador original.\n"
      ]
    },
    {
      "cell_type": "markdown",
      "metadata": {},
      "source": [
        "## Requisitos\n",
        "```bash\n",
        "pip install pymysql pymongo python-dotenv\n",
        "```"
      ]
    },
    {
      "cell_type": "markdown",
      "metadata": {},
      "source": [
        "## Cargar `.env`"
      ]
    },
    {
      "cell_type": "code",
      "execution_count": 1,
      "metadata": {},
      "outputs": [
        {
          "name": "stdout",
          "output_type": "stream",
          "text": [
            "[INFO] DB_ENV= remote\n"
          ]
        }
      ],
      "source": [
        "from dotenv import load_dotenv\n",
        "import os\n",
        "ENV_PATH=os.environ.get(\"ENV_PATH\",\".env\")\n",
        "load_dotenv(dotenv_path=ENV_PATH, override=False)\n",
        "print(\"[INFO] DB_ENV=\", os.getenv(\"DB_ENV\",\"local\"))"
      ]
    },
    {
      "cell_type": "markdown",
      "metadata": {},
      "source": [
        "## Resolver configuración"
      ]
    },
    {
      "cell_type": "code",
      "execution_count": 2,
      "metadata": {},
      "outputs": [
        {
          "data": {
            "text/plain": [
              "{'sql': {'database': 'myDb',\n",
              "  'username': 'mydb',\n",
              "  'password': '***',\n",
              "  'host': 'monorail.proxy.rlwy.net',\n",
              "  'port': 23251,\n",
              "  'dialect': 'mysql'},\n",
              " 'mongo_uri_defined': True,\n",
              " 'mongo_db': 'BDALMA_DATOS'}"
            ]
          },
          "execution_count": 2,
          "metadata": {},
          "output_type": "execute_result"
        }
      ],
      "source": [
        "def pick_sql_config():\n",
        "    env=(os.getenv(\"DB_ENV\",\"local\") or \"local\").lower()\n",
        "    if env==\"remote\":\n",
        "        return {\"database\":os.getenv(\"DB_REMOTE_NAME\"),\"username\":os.getenv(\"DB_REMOTE_USER\"),\"password\":os.getenv(\"DB_REMOTE_PASSWORD\"),\"host\":os.getenv(\"DB_REMOTE_HOST\",\"localhost\"),\"port\":int(os.getenv(\"DB_REMOTE_PORT\",\"3306\")),\"dialect\":os.getenv(\"DB_REMOTE_DIALECT\",\"mysql\")}\n",
        "    else:\n",
        "        return {\"database\":os.getenv(\"DB_LOCAL_NAME\"),\"username\":os.getenv(\"DB_LOCAL_USER\"),\"password\":os.getenv(\"DB_LOCAL_PASSWORD\"),\"host\":os.getenv(\"DB_LOCAL_HOST\",\"localhost\"),\"port\":int(os.getenv(\"DB_LOCAL_PORT\",\"3306\")),\"dialect\":os.getenv(\"DB_LOCAL_DIALECT\",\"mysql\")}\n",
        "\n",
        "def pick_mongo_uri():\n",
        "    env=(os.getenv(\"DB_ENV\",\"local\") or \"local\").lower()\n",
        "    return os.getenv(\"MONGODB_REMOTE_URI\",\"\") if env==\"remote\" else os.getenv(\"MONGODB_LOCAL_URI\",\"\")\n",
        "\n",
        "SQL_CONF=pick_sql_config()\n",
        "MONGO_URI=pick_mongo_uri()\n",
        "MONGO_DB=os.getenv(\"MONGO_DB\",\"BDALMA_DATOS\")\n",
        "{ \"sql\": {k:(v if k!=\"password\" else \"***\") for k,v in SQL_CONF.items()}, \"mongo_uri_defined\": bool(MONGO_URI), \"mongo_db\": MONGO_DB }"
      ]
    },
    {
      "cell_type": "markdown",
      "metadata": {},
      "source": [
        "## Dependencias + utilidades"
      ]
    },
    {
      "cell_type": "code",
      "execution_count": 3,
      "metadata": {},
      "outputs": [],
      "source": [
        "import os, json\n",
        "from datetime import datetime\n",
        "import pymysql\n",
        "from bson import ObjectId\n",
        "try:\n",
        "    from pymongo import MongoClient, ReplaceOne\n",
        "except Exception:\n",
        "    MongoClient=None; ReplaceOne=None\n",
        "\n",
        "def to_bool(x):\n",
        "    if isinstance(x,bool): return x\n",
        "    if x is None: return False\n",
        "    if isinstance(x,(int,float)): return x!=0\n",
        "    return str(x).strip().lower() in {\"1\",\"true\",\"t\",\"yes\",\"y\",\"on\"}\n",
        "\n",
        "def to_iso_date(x):\n",
        "    if x in (None,\"\",\"0000-00-00\"): return None\n",
        "    for fmt in (\"%Y-%m-%d\",\"%Y-%m-%d %H:%M:%S\"):\n",
        "        try: return datetime.strptime(str(x),fmt).date().isoformat()\n",
        "        except: pass\n",
        "    try: return datetime.fromisoformat(str(x)).date().isoformat()\n",
        "    except: return str(x)"
      ]
    },
    {
      "cell_type": "markdown",
      "metadata": {},
      "source": [
        "## Extraer desde MySQL"
      ]
    },
    {
      "cell_type": "code",
      "execution_count": 4,
      "metadata": {},
      "outputs": [
        {
          "data": {
            "text/plain": [
              "{'heroes': 10,\n",
              " 'peliculas': 10,\n",
              " 'usuarios': 5,\n",
              " 'multimedias': 20,\n",
              " 'protagonistas': 10,\n",
              " 'hero_media_links': 20}"
            ]
          },
          "execution_count": 4,
          "metadata": {},
          "output_type": "execute_result"
        }
      ],
      "source": [
        "if (SQL_CONF.get(\"dialect\",\"mysql\") or \"mysql\").lower()!=\"mysql\":\n",
        "    raise RuntimeError(f\"Dialect no soportado: {SQL_CONF.get('dialect')}\")\n",
        "conn=pymysql.connect(host=SQL_CONF[\"host\"],port=int(SQL_CONF[\"port\"]),user=SQL_CONF[\"username\"],password=SQL_CONF[\"password\"],db=SQL_CONF[\"database\"],charset=\"utf8mb4\",cursorclass=pymysql.cursors.DictCursor)\n",
        "with conn.cursor() as cur:\n",
        "    cur.execute(\"SELECT id, nombre, bio, img, aparicion, casa FROM heroes_ds\"); heroes=list(cur.fetchall())\n",
        "    cur.execute(\"SELECT id, nombre FROM peliculas_ds\"); peliculas=list(cur.fetchall())\n",
        "    cur.execute(\"\"\"SELECT id, nombre, correo, password, img, rol, estado, google, fecha_creacion, fecha_actualizacion FROM usuarios_ds\"\"\"); usuarios=list(cur.fetchall())\n",
        "    cur.execute(\"SELECT idmultimedia AS id, nombre, url, tipo FROM multimedias_ds\"); multimedias=list(cur.fetchall())\n",
        "    cur.execute(\"\"\"SELECT id, papel, fecha_participacion, heroes_id, peliculas_id FROM protagonistas_ds\"\"\"); protagonistas=list(cur.fetchall())\n",
        "    cur.execute(\"SELECT heroes_id, idmultimedia FROM multimedias_heroe_ds\"); hero_media=list(cur.fetchall())\n",
        "conn.close()\n",
        "{\"heroes\":len(heroes),\"peliculas\":len(peliculas),\"usuarios\":len(usuarios),\"multimedias\":len(multimedias),\"protagonistas\":len(protagonistas),\"hero_media_links\":len(hero_media)}"
      ]
    },
    {
      "cell_type": "markdown",
      "metadata": {},
      "source": [
        "## Transformar a documentos NoSQL"
      ]
    },
    {
      "cell_type": "code",
      "execution_count": null,
      "metadata": {},
      "outputs": [
        {
          "data": {
            "text/plain": [
              "{'heroes': 10,\n",
              " 'peliculas': 10,\n",
              " 'usuarios': 5,\n",
              " 'multimedias': 20,\n",
              " 'protagonistas': 10}"
            ]
          },
          "execution_count": 5,
          "metadata": {},
          "output_type": "execute_result"
        }
      ],
      "source": [
        "# ===== Mapear IDs SQL -> ObjectId por colección =====\n",
        "hero_oid = { int(h[\"id\"]): ObjectId() for h in heroes }\n",
        "pel_oid  = { int(p[\"id\"]): ObjectId() for p in peliculas }\n",
        "user_oid = { int(u[\"id\"]): ObjectId() for u in usuarios }\n",
        "media_oid= { int(m[\"id\"]): ObjectId() for m in multimedias }\n",
        "prot_oid = { int(pr[\"id\"]): ObjectId() for pr in protagonistas }\n",
        "\n",
        "# Índices auxiliares\n",
        "pel_by_id = { int(p[\"id\"]): p for p in peliculas }\n",
        "media_by_id = { int(m[\"id\"]): m for m in multimedias }\n",
        "\n",
        "# Multimedias por héroe (opcionalmente embebidas)\n",
        "media_by_hero = {}\n",
        "for hm in hero_media:\n",
        "    hid = int(hm[\"heroes_id\"]); mid = int(hm[\"idmultimedia\"])\n",
        "    media_doc = media_by_id.get(mid)\n",
        "    if media_doc:\n",
        "        media_by_hero.setdefault(hid, []).append({\n",
        "            \"sql_id\": mid,\n",
        "            \"mongo_id\": media_oid.get(mid),  # referencia al ObjectId generado para multimedias\n",
        "            \"nombre\": media_doc.get(\"nombre\"),\n",
        "            \"url\": media_doc.get(\"url\"),\n",
        "            \"tipo\": media_doc.get(\"tipo\"),\n",
        "        })\n",
        "\n",
        "# Participaciones por héroe (películas embebidas con referencia a OID)\n",
        "part_by_hero = {}\n",
        "for pr in protagonistas:\n",
        "    hid = int(pr[\"heroes_id\"]); pid = int(pr[\"peliculas_id\"])\n",
        "    pel = pel_by_id.get(pid, {\"id\": pid, \"nombre\": None})\n",
        "    part_by_hero.setdefault(hid, []).append({\n",
        "        \"pelicula\": {\n",
        "            \"sql_id\": int(pel[\"id\"]),\n",
        "            \"mongo_id\": pel_oid.get(int(pel[\"id\"])),  # referencia al ObjectId generado para películas\n",
        "            \"nombre\": pel.get(\"nombre\"),\n",
        "        },\n",
        "        \"papel\": pr[\"papel\"],\n",
        "        \"fecha_participacion\": to_iso_date(pr.get(\"fecha_participacion\")),\n",
        "    })\n",
        "\n",
        "# ===== Construir documentos con _id = ObjectId y sql_id preservado =====\n",
        "heroes_docs = [{\n",
        "    \"_id\": hero_oid[int(h[\"id\"])],\n",
        "    \"sql_id\": int(h[\"id\"]),\n",
        "    \"nombre\": h[\"nombre\"],\n",
        "    \"bio\": h.get(\"bio\"),\n",
        "    \"img\": h.get(\"img\"),\n",
        "    \"aparicion\": to_iso_date(h.get(\"aparicion\")),\n",
        "    \"casa\": h.get(\"casa\"),\n",
        "    \"peliculas\": part_by_hero.get(int(h[\"id\"]), []),\n",
        "    \"multimedias\": media_by_hero.get(int(h[\"id\"]), []),\n",
        "} for h in heroes]\n",
        "\n",
        "peliculas_docs = [{\n",
        "    \"_id\": pel_oid[int(p[\"id\"])],\n",
        "    \"sql_id\": int(p[\"id\"]),\n",
        "    \"nombre\": p[\"nombre\"],\n",
        "} for p in peliculas]\n",
        "\n",
        "usuarios_docs = [{\n",
        "    \"_id\": user_oid[int(u[\"id\"])],\n",
        "    \"sql_id\": int(u[\"id\"]),\n",
        "    \"nombre\": u[\"nombre\"],\n",
        "    \"correo\": u[\"correo\"],\n",
        "    \"password\": u[\"password\"],\n",
        "    \"img\": u.get(\"img\"),\n",
        "    \"rol\": u[\"rol\"],\n",
        "    \"estado\": to_bool(u.get(\"estado\")),\n",
        "    \"google\": to_bool(u.get(\"google\")),\n",
        "    \"fecha_creacion\": to_iso_date(u.get(\"fecha_creacion\")),\n",
        "    \"fecha_actualizacion\": to_iso_date(u.get(\"fecha_actualizacion\")),\n",
        "} for u in usuarios]\n",
        "\n",
        "multimedias_docs = [{\n",
        "    \"_id\": media_oid[int(m[\"id\"])],\n",
        "    \"sql_id\": int(m[\"id\"]),\n",
        "    \"nombre\": m[\"nombre\"],\n",
        "    \"url\": m.get(\"url\"),\n",
        "    \"tipo\": m.get(\"tipo\"),\n",
        "} for m in multimedias]\n",
        "\n",
        "protagonistas_docs = [{\n",
        "    \"_id\": prot_oid[int(pr[\"id\"])],\n",
        "    \"sql_id\": int(pr[\"id\"]),\n",
        "    \"papel\": pr[\"papel\"],\n",
        "    \"fecha_participacion\": to_iso_date(pr.get(\"fecha_participacion\")),\n",
        "    \"heroes_id\": hero_oid.get(int(pr[\"heroes_id\"])),     # referencia al OID de héroe\n",
        "    \"peliculas_id\": pel_oid.get(int(pr[\"peliculas_id\"])),# referencia al OID de película\n",
        "    \"heroes_sql_id\": int(pr[\"heroes_id\"]),\n",
        "    \"peliculas_sql_id\": int(pr[\"peliculas_id\"]),\n",
        "} for pr in protagonistas]\n",
        "\n",
        "{ \"heroes\": len(heroes_docs), \"peliculas\": len(peliculas_docs), \"usuarios\": len(usuarios_docs), \"multimedias\": len(multimedias_docs), \"protagonistas\": len(protagonistas_docs) }\n"
      ]
    },
    {
      "cell_type": "markdown",
      "metadata": {},
      "source": [
        "## Cargar en MongoDB (o exportar JSON si no hay URI)"
      ]
    },
    {
      "cell_type": "code",
      "execution_count": 6,
      "metadata": {},
      "outputs": [
        {
          "name": "stdout",
          "output_type": "stream",
          "text": [
            "[OK] Migración terminada.\n"
          ]
        }
      ],
      "source": [
        "class MongoSink:\n",
        "    def __init__(self, uri, dbname):\n",
        "        if MongoClient is None:\n",
        "            raise RuntimeError(\"Falta pymongo. pip install pymongo\")\n",
        "        self.client=MongoClient(uri); self.db=self.client[dbname]\n",
        "    def write(self, coll, docs):\n",
        "        if not docs: return\n",
        "        ops=[ReplaceOne({\"_id\": d[\"_id\"]}, d, upsert=True) for d in docs]\n",
        "        self.db[coll].bulk_write(ops, ordered=False)\n",
        "    def close(self):\n",
        "        try: self.client.close()\n",
        "        except: pass\n",
        "\n",
        "class JSONSink:\n",
        "    def __init__(self, outdir=\"output\"):\n",
        "        os.makedirs(outdir, exist_ok=True); self.outdir=outdir\n",
        "    def write(self, coll, docs):\n",
        "        with open(os.path.join(self.outdir, f\"{coll}.json\"),\"w\",encoding=\"utf-8\") as f:\n",
        "            json.dump(docs,f,ensure_ascii=False,indent=2)\n",
        "    def close(self): pass\n",
        "\n",
        "sink = MongoSink(MONGO_URI, MONGO_DB) if MONGO_URI else JSONSink(\"output\")\n",
        "for name,docs in [(\"heroes\",heroes_docs),(\"peliculas\",peliculas_docs),(\"usuarios\",usuarios_docs),(\"multimedias\",multimedias_docs),(\"protagonistas\",protagonistas_docs)]:\n",
        "    sink.write(name, docs)\n",
        "sink.close()\n",
        "print(\"[OK] Migración terminada.\")"
      ]
    }
  ],
  "metadata": {
    "kernelspec": {
      "display_name": ".venv",
      "language": "python",
      "name": "python3"
    },
    "language_info": {
      "codemirror_mode": {
        "name": "ipython",
        "version": 3
      },
      "file_extension": ".py",
      "mimetype": "text/x-python",
      "name": "python",
      "nbconvert_exporter": "python",
      "pygments_lexer": "ipython3",
      "version": "3.11.9"
    }
  },
  "nbformat": 4,
  "nbformat_minor": 5
}
