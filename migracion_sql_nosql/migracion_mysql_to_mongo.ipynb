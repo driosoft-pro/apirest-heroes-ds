{
  "cells": [
    {
      "cell_type": "markdown",
      "metadata": {},
      "source": [
        "# Migración MySQL → MongoDB (sin SQLite)\n",
        "\n",
        "Usa `.env` compartido (Node/Python)."
      ]
    },
    {
      "cell_type": "markdown",
      "metadata": {},
      "source": [
        "## Requisitos\n",
        "```bash\n",
        "pip install pymysql pymongo python-dotenv\n",
        "```"
      ]
    },
    {
      "cell_type": "markdown",
      "metadata": {},
      "source": [
        "## Cargar `.env`"
      ]
    },
    {
      "cell_type": "code",
      "execution_count": null,
      "metadata": {},
      "outputs": [],
      "source": [
        "from dotenv import load_dotenv\n",
        "import os\n",
        "ENV_PATH=os.environ.get(\"ENV_PATH\",\".env\")\n",
        "load_dotenv(dotenv_path=ENV_PATH, override=False)\n",
        "print(\"[INFO] DB_ENV=\", os.getenv(\"DB_ENV\",\"local\"))"
      ]
    },
    {
      "cell_type": "markdown",
      "metadata": {},
      "source": [
        "## Resolver configuración"
      ]
    },
    {
      "cell_type": "code",
      "execution_count": null,
      "metadata": {},
      "outputs": [],
      "source": [
        "def pick_sql_config():\n",
        "    env=(os.getenv(\"DB_ENV\",\"local\") or \"local\").lower()\n",
        "    if env==\"remote\":\n",
        "        return {\"database\":os.getenv(\"DB_REMOTE_NAME\"),\"username\":os.getenv(\"DB_REMOTE_USER\"),\"password\":os.getenv(\"DB_REMOTE_PASSWORD\"),\"host\":os.getenv(\"DB_REMOTE_HOST\",\"localhost\"),\"port\":int(os.getenv(\"DB_REMOTE_PORT\",\"3306\")),\"dialect\":os.getenv(\"DB_REMOTE_DIALECT\",\"mysql\")}\n",
        "    else:\n",
        "        return {\"database\":os.getenv(\"DB_LOCAL_NAME\"),\"username\":os.getenv(\"DB_LOCAL_USER\"),\"password\":os.getenv(\"DB_LOCAL_PASSWORD\"),\"host\":os.getenv(\"DB_LOCAL_HOST\",\"localhost\"),\"port\":int(os.getenv(\"DB_LOCAL_PORT\",\"3306\")),\"dialect\":os.getenv(\"DB_LOCAL_DIALECT\",\"mysql\")}\n",
        "\n",
        "def pick_mongo_uri():\n",
        "    env=(os.getenv(\"DB_ENV\",\"local\") or \"local\").lower()\n",
        "    return os.getenv(\"MONGODB_REMOTE_URI\",\"\") if env==\"remote\" else os.getenv(\"MONGODB_LOCAL_URI\",\"\")\n",
        "\n",
        "SQL_CONF=pick_sql_config()\n",
        "MONGO_URI=pick_mongo_uri()\n",
        "MONGO_DB=os.getenv(\"MONGO_DB\",\"apiheroes_nosql\")\n",
        "{ \"sql\": {k:(v if k!=\"password\" else \"***\") for k,v in SQL_CONF.items()}, \"mongo_uri_defined\": bool(MONGO_URI), \"mongo_db\": MONGO_DB }"
      ]
    },
    {
      "cell_type": "markdown",
      "metadata": {},
      "source": [
        "## Dependencias + utilidades"
      ]
    },
    {
      "cell_type": "code",
      "execution_count": null,
      "metadata": {},
      "outputs": [],
      "source": [
        "import os, json\n",
        "from datetime import datetime\n",
        "import pymysql\n",
        "try:\n",
        "    from pymongo import MongoClient, ReplaceOne\n",
        "except Exception:\n",
        "    MongoClient=None; ReplaceOne=None\n",
        "\n",
        "def to_bool(x):\n",
        "    if isinstance(x,bool): return x\n",
        "    if x is None: return False\n",
        "    if isinstance(x,(int,float)): return x!=0\n",
        "    return str(x).strip().lower() in {\"1\",\"true\",\"t\",\"yes\",\"y\",\"on\"}\n",
        "\n",
        "def to_iso_date(x):\n",
        "    if x in (None,\"\",\"0000-00-00\"): return None\n",
        "    for fmt in (\"%Y-%m-%d\",\"%Y-%m-%d %H:%M:%S\"):\n",
        "        try: return datetime.strptime(str(x),fmt).date().isoformat()\n",
        "        except: pass\n",
        "    try: return datetime.fromisoformat(str(x)).date().isoformat()\n",
        "    except: return str(x)"
      ]
    },
    {
      "cell_type": "markdown",
      "metadata": {},
      "source": [
        "## Extraer desde MySQL"
      ]
    },
    {
      "cell_type": "code",
      "execution_count": null,
      "metadata": {},
      "outputs": [],
      "source": [
        "if (SQL_CONF.get(\"dialect\",\"mysql\") or \"mysql\").lower()!=\"mysql\":\n",
        "    raise RuntimeError(f\"Dialect no soportado: {SQL_CONF.get('dialect')}\")\n",
        "conn=pymysql.connect(host=SQL_CONF[\"host\"],port=int(SQL_CONF[\"port\"]),user=SQL_CONF[\"username\"],password=SQL_CONF[\"password\"],db=SQL_CONF[\"database\"],charset=\"utf8mb4\",cursorclass=pymysql.cursors.DictCursor)\n",
        "with conn.cursor() as cur:\n",
        "    cur.execute(\"SELECT id, nombre, bio, img, aparicion, casa FROM heroes_ds\"); heroes=list(cur.fetchall())\n",
        "    cur.execute(\"SELECT id, nombre FROM peliculas_ds\"); peliculas=list(cur.fetchall())\n",
        "    cur.execute(\"\"\"SELECT id, nombre, correo, password, img, rol, estado, google, fecha_creacion, fecha_actualizacion FROM usuarios_ds\"\"\"); usuarios=list(cur.fetchall())\n",
        "    cur.execute(\"SELECT idmultimedia AS id, nombre, url, tipo FROM multimedias_ds\"); multimedias=list(cur.fetchall())\n",
        "    cur.execute(\"\"\"SELECT id, papel, fecha_participacion, heroes_id, peliculas_id FROM protagonistas_ds\"\"\"); protagonistas=list(cur.fetchall())\n",
        "    cur.execute(\"SELECT heroes_id, idmultimedia FROM multimedias_heroe_ds\"); hero_media=list(cur.fetchall())\n",
        "conn.close()\n",
        "{\"heroes\":len(heroes),\"peliculas\":len(peliculas),\"usuarios\":len(usuarios),\"multimedias\":len(multimedias),\"protagonistas\":len(protagonistas),\"hero_media_links\":len(hero_media)}"
      ]
    },
    {
      "cell_type": "markdown",
      "metadata": {},
      "source": [
        "## Transformar a documentos NoSQL"
      ]
    },
    {
      "cell_type": "code",
      "execution_count": null,
      "metadata": {},
      "outputs": [],
      "source": [
        "pel_by_id={p[\"id\"]:p for p in peliculas}; media_by_id={m[\"id\"]:m for m in multimedias}\n",
        "media_by_hero={}\n",
        "for hm in hero_media:\n",
        "    media_by_hero.setdefault(hm[\"heroes_id\"],[]).append(media_by_id.get(hm[\"idmultimedia\"]))\n",
        "part_by_hero={}\n",
        "for pr in protagonistas:\n",
        "    pel=pel_by_id.get(pr[\"peliculas_id\"],{\"id\":pr[\"peliculas_id\"],\"nombre\":None})\n",
        "    part_by_hero.setdefault(pr[\"heroes_id\"],[]).append({\"pelicula_id\":pel[\"id\"],\"pelicula_nombre\":pel[\"nombre\"],\"papel\":pr[\"papel\"],\"fecha_participacion\":to_iso_date(pr[\"fecha_participacion\"])})\n",
        "heroes_docs=[{\"_id\":int(h[\"id\"]),\"nombre\":h[\"nombre\"],\"bio\":h.get(\"bio\"),\"img\":h.get(\"img\"),\"aparicion\":to_iso_date(h.get(\"aparicion\")),\"casa\":h.get(\"casa\"),\"peliculas\":part_by_hero.get(h[\"id\"],[]),\"multimedias\":media_by_hero.get(h[\"id\"],[])} for h in heroes]\n",
        "peliculas_docs=[{\"_id\":int(p[\"id\"]),\"nombre\":p[\"nombre\"]} for p in peliculas]\n",
        "usuarios_docs=[{\"_id\":int(u[\"id\"]),\"nombre\":u[\"nombre\"],\"correo\":u[\"correo\"],\"password\":u[\"password\"],\"img\":u.get(\"img\"),\"rol\":u[\"rol\"],\"estado\":to_bool(u.get(\"estado\")),\"google\":to_bool(u.get(\"google\")),\"fecha_creacion\":to_iso_date(u.get(\"fecha_creacion\")),\"fecha_actualizacion\":to_iso_date(u.get(\"fecha_actualizacion\"))} for u in usuarios]\n",
        "multimedias_docs=[{\"_id\":int(m[\"id\"]),\"nombre\":m[\"nombre\"],\"url\":m.get(\"url\"),\"tipo\":m.get(\"tipo\")} for m in multimedias]\n",
        "protagonistas_docs=[{\"_id\":int(pr[\"id\"]),\"papel\":pr[\"papel\"],\"fecha_participacion\":to_iso_date(pr[\"fecha_participacion\"]),\"heroes_id\":int(pr[\"heroes_id\"]),\"peliculas_id\":int(pr[\"peliculas_id\"])} for pr in protagonistas]\n",
        "{\"heroes\":len(heroes_docs),\"peliculas\":len(peliculas_docs),\"usuarios\":len(usuarios_docs),\"multimedias\":len(multimedias_docs),\"protagonistas\":len(protagonistas_docs)}"
      ]
    },
    {
      "cell_type": "markdown",
      "metadata": {},
      "source": [
        "## Cargar en MongoDB (o exportar JSON si no hay URI)"
      ]
    },
    {
      "cell_type": "code",
      "execution_count": null,
      "metadata": {},
      "outputs": [],
      "source": [
        "class MongoSink:\n",
        "    def __init__(self, uri, dbname):\n",
        "        if MongoClient is None:\n",
        "            raise RuntimeError(\"Falta pymongo. pip install pymongo\")\n",
        "        self.client=MongoClient(uri); self.db=self.client[dbname]\n",
        "    def write(self, coll, docs):\n",
        "        if not docs: return\n",
        "        ops=[ReplaceOne({\"_id\":d[\"_id\"]} if \"_id\" in d else {\"nombre\":d.get(\"nombre\")}, d, upsert=True) for d in docs]\n",
        "        self.db[coll].bulk_write(ops, ordered=False)\n",
        "    def close(self):\n",
        "        try: self.client.close()\n",
        "        except: pass\n",
        "\n",
        "class JSONSink:\n",
        "    def __init__(self, outdir=\"output\"):\n",
        "        os.makedirs(outdir, exist_ok=True); self.outdir=outdir\n",
        "    def write(self, coll, docs):\n",
        "        with open(os.path.join(self.outdir, f\"{coll}.json\"),\"w\",encoding=\"utf-8\") as f:\n",
        "            json.dump(docs,f,ensure_ascii=False,indent=2)\n",
        "    def close(self): pass\n",
        "\n",
        "sink = MongoSink(MONGO_URI, MONGO_DB) if MONGO_URI else JSONSink(\"output\")\n",
        "for name,docs in [(\"heroes\",heroes_docs),(\"peliculas\",peliculas_docs),(\"usuarios\",usuarios_docs),(\"multimedias\",multimedias_docs),(\"protagonistas\",protagonistas_docs)]:\n",
        "    sink.write(name, docs)\n",
        "sink.close()\n",
        "print(\"[OK] Migración terminada.\")"
      ]
    }
  ],
  "metadata": {
    "kernelspec": {
      "display_name": "Python 3",
      "language": "python",
      "name": "python3"
    }
  },
  "nbformat": 4,
  "nbformat_minor": 5
}